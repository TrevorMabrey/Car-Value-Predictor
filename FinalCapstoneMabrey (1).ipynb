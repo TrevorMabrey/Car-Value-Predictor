{
 "cells": [
  {
   "cell_type": "markdown",
   "metadata": {
    "id": "sFXqDjU7BqWH"
   },
   "source": [
    "## Car Sales Analysis"
   ]
  },
  {
   "cell_type": "code",
   "execution_count": null,
   "metadata": {
    "colab": {
     "base_uri": "https://localhost:8080/",
     "height": 370
    },
    "id": "k5jgQX9FBzDW",
    "outputId": "b5625690-30cc-4c59-968d-4416d9535a24"
   },
   "outputs": [],
   "source": [
    "import pandas as pd\n",
    "import numpy as np\n",
    "import ipywidgets as widgets\n",
    "from IPython.display import display\n",
    "from sklearn.model_selection import train_test_split\n",
    "from sklearn.linear_model import LinearRegression\n",
    "from sklearn.metrics import mean_squared_error\n",
    "import seaborn as sns\n",
    "import matplotlib.pyplot as plt\n",
    "from google.colab import drive\n",
    "import os\n",
    "\n",
    "\n",
    "from google.colab import drive\n",
    "!gdown \"https://drive.google.com/uc?id=1Js7WK-h9kU7ImN_N10VXBwJDPsRS5BzA&confirm=t\"\n",
    "\n",
    "data = pd.read_csv('car_prices.csv')\n",
    "\n",
    "\n",
    "\n",
    "data.dropna(inplace=True)\n",
    "\n",
    "\n",
    "# Unique values printed for selection options for the prediction tool. used with state, body, make, and transmission.\n",
    "# print(sorted(data['state'].unique()))\n",
    "\n",
    "data = data.join(pd.get_dummies(data.make)).drop(['make'], axis=1)\n",
    "data = data.drop(['model'], axis=1)\n",
    "data = data.drop(['trim'], axis=1)\n",
    "data = data.join(pd.get_dummies(data.body)).drop(['body'], axis=1)\n",
    "data = data.join(pd.get_dummies(data.transmission)).drop(['transmission'], axis=1)\n",
    "data = data.join(pd.get_dummies(data.state)).drop(['state'], axis=1)\n",
    "data = data.drop(['color'], axis=1)\n",
    "data = data.drop(['interior'], axis=1)\n",
    "data = data.drop(['seller'], axis=1)\n",
    "data = data.drop(['mmr'], axis=1)\n",
    "data = data.drop(['saledate'], axis=1)\n",
    "data = data.drop(['vin'], axis=1)\n",
    "\n",
    "\n",
    "data.describe()\n"
   ]
  },
  {
   "cell_type": "code",
   "execution_count": null,
   "metadata": {
    "colab": {
     "base_uri": "https://localhost:8080/",
     "height": 539
    },
    "id": "GJQ20CejLV__",
    "outputId": "2b49b0f6-9d68-4df8-b7d9-d2f08ccaa683"
   },
   "outputs": [],
   "source": [
    "data.hist()"
   ]
  },
  {
   "cell_type": "markdown",
   "metadata": {
    "id": "FGuV6DpiLjoB"
   },
   "source": [
    "According to the above histogram, the dataset primarily represents newer, lightly driven cars in a wide variety of conditions."
   ]
  },
  {
   "cell_type": "code",
   "execution_count": null,
   "metadata": {
    "colab": {
     "base_uri": "https://localhost:8080/",
     "height": 867
    },
    "id": "yYk_7B-lLZwS",
    "outputId": "c49962e8-3aef-4a67-b418-195382c03f4d"
   },
   "outputs": [],
   "source": [
    "plt.figure(figsize=(20, 10))\n",
    "print(sns.scatterplot(x=\"odometer\", y=\"sellingprice\", hue= \"condition\", data=data))"
   ]
  },
  {
   "cell_type": "markdown",
   "metadata": {
    "id": "XQ61d-anK53l"
   },
   "source": [
    "As the odometer value increases, the condition and selling price trend downwards"
   ]
  },
  {
   "cell_type": "markdown",
   "metadata": {
    "id": "c_4IJVT56krS"
   },
   "source": [
    "## Car Sales Price Prediction Model"
   ]
  },
  {
   "cell_type": "code",
   "execution_count": null,
   "metadata": {
    "colab": {
     "base_uri": "https://localhost:8080/",
     "height": 278,
     "referenced_widgets": [
      "fe2567e085584d06abd6559024a3c154",
      "c3af06bf55cd4997b7b6146da696087c",
      "05b51180412d4b7c990ec939988674ae",
      "fd106b4a36ba4f7fa28df312b3a2f127",
      "b93910954d90477588a593ce197cb15c",
      "53a75aee525f4466a9dcc96b09ce567f",
      "8847e49922bd4de68802530c06dc5c53",
      "62ba47740d7f4def8e119552556d26fc",
      "5e3ec67e22fd4f26be0b5de92cb6b96e",
      "88246a0ae99f45c9a032f0a19b7f9360",
      "2ce5cd8ef6044463b452ca47f33be661",
      "5fe7fa6a5f7a403b83f12e8dae45e28b",
      "35da56899f874c5daae227b6ce9e4103",
      "89c75a1a29b74746aa2e0aab2d9d8589",
      "fb6ef5f10e704637ab480d114dceaa65",
      "443d16a42d0f43e6a044b40560ccf5ab",
      "f3bd7f9b0eb54a968308d69eaba14e35",
      "22fd4feb7ec64f8db4c7946e2ff4c2cc",
      "dede60cf8e4b4f998440eac79ba39819",
      "5a0cc27c7fe8462197ee07782bf078df",
      "5dc510283b66443d8865fc7df2f66a5b",
      "f528c7fd8cba431bafe59c4333534323",
      "202828125fed4699bf0574f754f240e1",
      "baf76bc434104265be87f4e84b62c9a3"
     ]
    },
    "id": "PbScKv-jtaPv",
    "outputId": "22c6d269-1cef-4859-eedd-b46b89aeeb45"
   },
   "outputs": [],
   "source": [
    "import pandas as pd\n",
    "import numpy as np\n",
    "import ipywidgets as widgets\n",
    "from IPython.display import display\n",
    "from sklearn.model_selection import train_test_split\n",
    "from sklearn.linear_model import LinearRegression\n",
    "from sklearn.metrics import mean_squared_error\n",
    "from sklearn.metrics import r2_score\n",
    "\n",
    "#import and preprocessing\n",
    "data = pd.read_csv('car_prices.csv')\n",
    "data.dropna(inplace=True)\n",
    "\n",
    "data = data.join(pd.get_dummies(data.make)).drop(['make'], axis=1)\n",
    "data = data.drop(['model'], axis=1)\n",
    "data = data.drop(['trim'], axis=1)\n",
    "data = data.join(pd.get_dummies(data.body)).drop(['body'], axis=1)\n",
    "data = data.join(pd.get_dummies(data.transmission)).drop(['transmission'], axis=1)\n",
    "data = data.join(pd.get_dummies(data.state)).drop(['state'], axis=1)\n",
    "data = data.drop(['color'], axis=1)\n",
    "data = data.drop(['interior'], axis=1)\n",
    "data = data.drop(['seller'], axis=1)\n",
    "data = data.drop(['mmr'], axis=1)\n",
    "data = data.drop(['saledate'], axis=1)\n",
    "data = data.drop(['vin'], axis=1)\n",
    "\n",
    "\n",
    "\n",
    "X = data.drop(['sellingprice'], axis=1)\n",
    "y = data['sellingprice']\n",
    "\n",
    "#print(X.columns)\n",
    "\n",
    "X_train, X_test, y_train, y_test = train_test_split(X, y, test_size=0.2, random_state=42)\n",
    "\n",
    "\n",
    "model = LinearRegression()\n",
    "model.fit(X_train, y_train)\n",
    "\n",
    "#validation\n",
    "y_pred = model.predict(X_test)\n",
    "\n",
    "\n",
    "print(\"R2 score is \", r2_score(y_test, y_pred))\n",
    "\n",
    "\n",
    "year = widgets.Text(value='', placeholder='Enter year', description='Year:')\n",
    "make = widgets.Dropdown(\n",
    "    options=['Acura', 'Aston Martin', 'Audi', 'BMW', 'Bentley', 'Buick', 'Cadillac', 'Chevrolet', 'Chrysler', 'Daewoo', 'Dodge', 'FIAT', 'Ferrari', 'Fisker',\n",
    "             'Ford', 'GMC', 'Geo', 'HUMMER', 'Honda', 'Hyundai', 'Infiniti', 'Isuzu', 'Jaguar', 'Jeep', 'Kia', 'Lamborghini', 'Land Rover', 'Lexus', 'Lincoln', 'Lotus',\n",
    "             'MINI', 'Maserati', 'Mazda', 'Mercedes-Benz', 'Mercury', 'Mitsubishi', 'Nissan', 'Oldsmobile', 'Plymouth', 'Pontiac', 'Porsche', 'Ram', 'Rolls-Royce', 'Saab',\n",
    "             'Saturn', 'Scion', 'Subaru', 'Suzuki', 'Tesla', 'Toyota', 'Volkswagen', 'Volvo', 'smart'],\n",
    "    description='Make',\n",
    "    disabled=False,\n",
    ")\n",
    "body = widgets.Dropdown(\n",
    "    options=['Access Cab', 'Beetle Convertible', 'CTS Coupe', 'CTS Wagon', 'CTS-V Coupe', 'CTS-V Wagon', 'Cab Plus', 'Cab Plus 4', 'Club Cab',\n",
    "             'Convertible', 'Coupe', 'Crew Cab', 'CrewMax Cab', 'Double Cab', 'E-Series Van', 'Elantra Coupe', 'Extended Cab', 'G Convertible',\n",
    "             'G Coupe', 'G Sedan', 'G37 Convertible', 'G37 Coupe', 'Genesis Coupe', 'GranTurismo Convertible', 'Hatchback', 'King Cab', 'Koup',\n",
    "             'Mega Cab', 'Minivan', 'Promaster Cargo Van', 'Q60 Convertible', 'Q60 Coupe', 'Quad Cab', 'Ram Van', 'Regular Cab', 'SUV', 'Sedan',\n",
    "             'SuperCab', 'SuperCrew', 'TSX Sport Wagon', 'Transit Van', 'Van', 'Wagon', 'Xtracab', 'access cab', 'beetle convertible', 'cab plus 4',\n",
    "             'club cab', 'convertible', 'coupe', 'crew cab', 'crewmax cab', 'cts coupe', 'cts wagon', 'cts-v coupe', 'double cab', 'e-series van', 'elantra coupe',\n",
    "             'extended cab', 'g convertible', 'g coupe', 'g sedan', 'g37 convertible', 'genesis coupe', 'granturismo convertible', 'hatchback', 'king cab', 'koup',\n",
    "             'mega cab', 'minivan', 'promaster cargo van', 'q60 convertible', 'q60 coupe', 'quad cab', 'regular cab', 'regular-cab', 'sedan', 'supercab', 'supercrew',\n",
    "             'suv', 'transit van', 'tsx sport wagon', 'van', 'wagon', 'xtracab'],\n",
    "    description='Body',\n",
    "    disabled=False,\n",
    ")\n",
    "transmission = widgets.Dropdown(\n",
    "    options=['automatic', 'manual'],\n",
    "    description='Transmission',\n",
    "    disabled=False,\n",
    ")\n",
    "state = widgets.Dropdown(\n",
    "    options=['al', 'az', 'ca', 'co', 'fl', 'ga', 'hi', 'il', 'in', 'la', 'ma', 'md', 'mi', 'mn', 'mo', 'ms', 'nc', 'ne', 'nj',\n",
    "             'nm', 'nv', 'ny', 'oh', 'ok', 'or', 'pa', 'pr', 'sc', 'tn', 'tx', 'ut', 'va', 'wa', 'wi'],\n",
    "    description='State',\n",
    "    disabled=False,\n",
    ")\n",
    "condition = widgets.IntSlider(\n",
    "    min=0,\n",
    "    max=49,\n",
    "    step=1,\n",
    "    description='Condition',\n",
    "\n",
    ")\n",
    "odometer = widgets.IntText(value=0, description='Odometer:')\n",
    "\n",
    "\n",
    "predict_button = widgets.Button(description=\"Predict Selling Price\")\n",
    "predicted_price = 0\n",
    "form_make = 'aaa'\n",
    "form_odometer = 0\n",
    "# Function to collect input and make a prediction\n",
    "def collect_data_and_predict(b):\n",
    "    global predicted_price\n",
    "    global form_make\n",
    "    global form_odometer\n",
    "    new_entry = {\n",
    "        'year': int(year.value),\n",
    "        'odometer': odometer.value,\n",
    "        'condition': condition.value,\n",
    "\n",
    "    }\n",
    "\n",
    "\n",
    "    entry_df = pd.DataFrame([new_entry])\n",
    "    form_make = make.value\n",
    "    form_odometer = odometer.value\n",
    "\n",
    "\n",
    "    if f'{make.value}' not in X.columns:\n",
    "        print(f\"Make '{make.value}' is not recognized. Please enter a valid make.\")\n",
    "        return\n",
    "    if f'{body.value}' not in X.columns:\n",
    "        print(f\"Body '{body.value}' is not recognized. Please enter a valid body type.\")\n",
    "        return\n",
    "    if f'{transmission.value}' not in X.columns:\n",
    "        print(f\"Transmission '{transmission.value}' is not recognized. Please enter a valid transmission.\")\n",
    "        return\n",
    "    if f'{state.value}' not in X.columns:\n",
    "        print(f\"State '{state.value}' is not recognized. Please enter a valid state.\")\n",
    "        return\n",
    "\n",
    "\n",
    "    entry_df[f'{make.value}'] = 1\n",
    "    entry_df[f'{body.value}'] = 1\n",
    "    entry_df[f'{transmission.value}'] = 1\n",
    "    entry_df[f'{state.value}'] = 1\n",
    "\n",
    "\n",
    "    #entry_df = entry_df.join(pd.get_dummies([make.value], prefix='make'))\n",
    "    #entry_df = entry_df.join(pd.get_dummies([body.value], prefix='body'))\n",
    "    #entry_df = entry_df.join(pd.get_dummies([transmission.value], prefix='transmission'))\n",
    "    #entry_df = entry_df.join(pd.get_dummies([state.value], prefix='state'))\n",
    "\n",
    "\n",
    "    entry_df_aligned = entry_df.reindex(columns=X.columns, fill_value=0)\n",
    "\n",
    "\n",
    "    predicted_price = model.predict(entry_df_aligned)[0]\n",
    "\n",
    "    print(f\"Predicted Selling Price: ${predicted_price:.2f}\")\n",
    "\n",
    "\n",
    "\n",
    "    filtered_data = data[data[form_make] == 1]\n",
    "\n",
    "    plt.figure(figsize=(8, 6))\n",
    "\n",
    "\n",
    "    sns.scatterplot(data=filtered_data, x='odometer', y='sellingprice', label=f'Other {form_make} Cars', color='blue')\n",
    "\n",
    "\n",
    "    plt.scatter(form_odometer, predicted_price, color='red', label='Predicted Car Value', s=100, marker='X')\n",
    "\n",
    "\n",
    "    plt.title(f\"Predicted Car Value vs. {form_make} Cars\")\n",
    "    plt.xlabel('Odometer (miles)')\n",
    "    plt.ylabel('Selling Price')\n",
    "    plt.legend()\n",
    "\n",
    "\n",
    "    plt.grid(True)\n",
    "    plt.show()\n",
    "\n",
    "\n",
    "predict_button.on_click(collect_data_and_predict)\n",
    "\n",
    "\n",
    "display(year, make, body, transmission, state, condition, odometer, predict_button)"
   ]
  }
 ],
 "metadata": {
  "colab": {
   "provenance": []
  },
  "kernelspec": {
   "display_name": "Python 3",
   "name": "python3"
  },
  "language_info": {
   "name": "python"
  }
 },
 "nbformat": 4,
 "nbformat_minor": 0
}
